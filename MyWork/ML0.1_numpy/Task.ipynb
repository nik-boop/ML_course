{
 "cells": [
  {
   "cell_type": "code",
   "execution_count": 2,
   "metadata": {},
   "outputs": [],
   "source": [
    "# комменарий\n",
    "%matplotlib inline \n",
    "#команда об интерактивном использовании matplotlib\n",
    "import matplotlib.pyplot as plt #импорт функций подмодуля pyplot об интерактивном \n",
    "#использовании matplotlib\n",
    "\n",
    "\n",
    "from numpy import * #при этом отсутсвует необходимость использования numpy.array\n",
    "#import nympy as np - позволяет сократить имя объекта используя np.array"
   ]
  },
  {
   "cell_type": "markdown",
   "metadata": {},
   "source": [
    "### Задание 1\n",
    "Создайте матрицу таблицы умножения с использованием списков"
   ]
  },
  {
   "cell_type": "code",
   "execution_count": 3,
   "metadata": {},
   "outputs": [
    {
     "data": {
      "text/plain": [
       "array([[  2,   4,   6,   8,  10,  12,  14,  16,  18,  20],\n",
       "       [  3,   6,   9,  12,  15,  18,  21,  24,  27,  30],\n",
       "       [  4,   8,  12,  16,  20,  24,  28,  32,  36,  40],\n",
       "       [  5,  10,  15,  20,  25,  30,  35,  40,  45,  50],\n",
       "       [  6,  12,  18,  24,  30,  36,  42,  48,  54,  60],\n",
       "       [  7,  14,  21,  28,  35,  42,  49,  56,  63,  70],\n",
       "       [  8,  16,  24,  32,  40,  48,  56,  64,  72,  80],\n",
       "       [  9,  18,  27,  36,  45,  54,  63,  72,  81,  90],\n",
       "       [ 10,  20,  30,  40,  50,  60,  70,  80,  90, 100]])"
      ]
     },
     "execution_count": 3,
     "metadata": {},
     "output_type": "execute_result"
    }
   ],
   "source": [
    "M = array([[j*i for j in range(1,11)] for i in range(2, 11)])\n",
    "\n",
    "M"
   ]
  },
  {
   "cell_type": "markdown",
   "metadata": {},
   "source": [
    "### Задание 2\n",
    "Создайте функцию, которая принимает как аргументы целое число N и первый элемент (вещественное число el1), и разность (вещественное число d) и создает матрицу по диагонали, которой распологаются первые N членов арифметической прогрессии. "
   ]
  },
  {
   "cell_type": "code",
   "execution_count": 4,
   "metadata": {},
   "outputs": [
    {
     "data": {
      "text/plain": [
       "array([[2. , 0. , 0. , 0. , 0. ],\n",
       "       [0. , 3.5, 0. , 0. , 0. ],\n",
       "       [0. , 0. , 5. , 0. , 0. ],\n",
       "       [0. , 0. , 0. , 6.5, 0. ],\n",
       "       [0. , 0. , 0. , 0. , 8. ]])"
      ]
     },
     "execution_count": 4,
     "metadata": {},
     "output_type": "execute_result"
    }
   ],
   "source": [
    "def make_diagonal_matrix(n, el1, d):\n",
    "    return diag([el1 + d*i for i in range(n)])\n",
    "\n",
    "make_diagonal_matrix(5, 2, 1.5)"
   ]
  },
  {
   "cell_type": "markdown",
   "metadata": {},
   "source": [
    "### Задание 3\n",
    "Из данных по температуре в Стокгольме выбрать данные относящиеся к октябрю 1970 года и записать их в бинарный и текстовый файлы oct70.bin и oct70.txt. Затем прочитайте их импортировав в тетрадь ноутбука и сравните."
   ]
  },
  {
   "cell_type": "code",
   "execution_count": 5,
   "metadata": {},
   "outputs": [
    {
     "name": "stdout",
     "output_type": "stream",
     "text": [
      "Температура в txt файле = 10.4, в bin файле = 10.4.\n",
      "Температура в txt файле = 9.0, в bin файле = 9.0.\n",
      "Температура в txt файле = 7.8, в bin файле = 7.8.\n",
      "Температура в txt файле = 6.6, в bin файле = 6.6.\n",
      "Температура в txt файле = 7.9, в bin файле = 7.9.\n",
      "Температура в txt файле = 10.7, в bin файле = 10.7.\n",
      "Температура в txt файле = 12.2, в bin файле = 12.2.\n",
      "Температура в txt файле = 12.2, в bin файле = 12.2.\n",
      "Температура в txt файле = 10.2, в bin файле = 10.2.\n",
      "Температура в txt файле = 10.9, в bin файле = 10.9.\n",
      "Температура в txt файле = 9.7, в bin файле = 9.7.\n",
      "Температура в txt файле = 9.0, в bin файле = 9.0.\n",
      "Температура в txt файле = 6.7, в bin файле = 6.7.\n",
      "Температура в txt файле = 4.8, в bin файле = 4.8.\n",
      "Температура в txt файле = 8.2, в bin файле = 8.2.\n",
      "Температура в txt файле = 9.9, в bin файле = 9.9.\n",
      "Температура в txt файле = 9.8, в bin файле = 9.8.\n",
      "Температура в txt файле = 8.6, в bin файле = 8.6.\n",
      "Температура в txt файле = 8.8, в bin файле = 8.8.\n",
      "Температура в txt файле = 7.3, в bin файле = 7.3.\n",
      "Температура в txt файле = 6.2, в bin файле = 6.2.\n",
      "Температура в txt файле = 3.0, в bin файле = 3.0.\n",
      "Температура в txt файле = 0.5, в bin файле = 0.5.\n",
      "Температура в txt файле = 4.5, в bin файле = 4.5.\n",
      "Температура в txt файле = 6.3, в bin файле = 6.3.\n",
      "Температура в txt файле = 3.3, в bin файле = 3.3.\n",
      "Температура в txt файле = 1.6, в bin файле = 1.6.\n",
      "Температура в txt файле = 1.7, в bin файле = 1.7.\n",
      "Температура в txt файле = 2.3, в bin файле = 2.3.\n",
      "Температура в txt файле = 1.8, в bin файле = 1.8.\n",
      "Температура в txt файле = 1.1, в bin файле = 1.1.\n"
     ]
    }
   ],
   "source": [
    "data = genfromtxt(\"data/stockholm_td_adj.dat\")\n",
    "arr_data = array([data[i, 5] for i in range(data.shape[0]) if (data[i, 0] == 1970) * (data[i, 1] == 10)])\n",
    "savetxt(\"oct70.bin\", arr_data)\n",
    "savetxt(\"oct70.txt\", arr_data)\n",
    "txt_final = loadtxt(\"oct70.txt\")\n",
    "bin_final = loadtxt('oct70.bin')\n",
    "\n",
    "for i in range(31):\n",
    "    print(f\"Температура в txt файле = {txt_final[i]}, в bin файле = {bin_final[i]}.\")"
   ]
  },
  {
   "cell_type": "markdown",
   "metadata": {},
   "source": [
    "### Задание 4\n",
    "Используя срезы извлеките нечетные элементы матрицы А. "
   ]
  },
  {
   "cell_type": "code",
   "execution_count": 6,
   "metadata": {},
   "outputs": [
    {
     "ename": "NameError",
     "evalue": "name 'A' is not defined",
     "output_type": "error",
     "traceback": [
      "\u001b[1;31m---------------------------------------------------------------------------\u001b[0m",
      "\u001b[1;31mNameError\u001b[0m                                 Traceback (most recent call last)",
      "\u001b[1;32mc:\\Users\\AndroidS\\Desktop\\Анализ данных и машинное обучение\\ML_course\\MyWork\\ML0.1_numpy\\Task.ipynb Ячейка 9\u001b[0m in \u001b[0;36m<cell line: 1>\u001b[1;34m()\u001b[0m\n\u001b[1;32m----> <a href='vscode-notebook-cell:/c%3A/Users/AndroidS/Desktop/%D0%90%D0%BD%D0%B0%D0%BB%D0%B8%D0%B7%20%D0%B4%D0%B0%D0%BD%D0%BD%D1%8B%D1%85%20%D0%B8%20%D0%BC%D0%B0%D1%88%D0%B8%D0%BD%D0%BD%D0%BE%D0%B5%20%D0%BE%D0%B1%D1%83%D1%87%D0%B5%D0%BD%D0%B8%D0%B5/ML_course/MyWork/ML0.1_numpy/Task.ipynb#X11sZmlsZQ%3D%3D?line=0'>1</a>\u001b[0m A[:, \u001b[39m1\u001b[39m::\u001b[39m2\u001b[39m]\n",
      "\u001b[1;31mNameError\u001b[0m: name 'A' is not defined"
     ]
    }
   ],
   "source": [
    "A[:, 1::2]\n"
   ]
  },
  {
   "cell_type": "markdown",
   "metadata": {},
   "source": [
    "### Задание 5\n",
    "Используйте массив из задания 1 (таблицу умножения) извлеките из него при помощи маски все числа кратные 3. "
   ]
  },
  {
   "cell_type": "code",
   "execution_count": null,
   "metadata": {},
   "outputs": [
    {
     "name": "stdout",
     "output_type": "stream",
     "text": [
      "[[  2   4   6   8  10  12  14  16  18  20]\n",
      " [  3   6   9  12  15  18  21  24  27  30]\n",
      " [  4   8  12  16  20  24  28  32  36  40]\n",
      " [  5  10  15  20  25  30  35  40  45  50]\n",
      " [  6  12  18  24  30  36  42  48  54  60]\n",
      " [  7  14  21  28  35  42  49  56  63  70]\n",
      " [  8  16  24  32  40  48  56  64  72  80]\n",
      " [  9  18  27  36  45  54  63  72  81  90]\n",
      " [ 10  20  30  40  50  60  70  80  90 100]]\n",
      "[[ 0  0  6  0  0 12  0  0 18  0]\n",
      " [ 3  6  9 12 15 18 21 24 27 30]\n",
      " [ 0  0 12  0  0 24  0  0 36  0]\n",
      " [ 0  0 15  0  0 30  0  0 45  0]\n",
      " [ 6 12 18 24 30 36 42 48 54 60]\n",
      " [ 0  0 21  0  0 42  0  0 63  0]\n",
      " [ 0  0 24  0  0 48  0  0 72  0]\n",
      " [ 9 18 27 36 45 54 63 72 81 90]\n",
      " [ 0  0 30  0  0 60  0  0 90  0]]\n"
     ]
    },
    {
     "data": {
      "text/plain": [
       "array([ 6, 12, 18,  3,  6,  9, 12, 15, 18, 21, 24, 27, 30, 12, 24, 36, 15,\n",
       "       30, 45,  6, 12, 18, 24, 30, 36, 42, 48, 54, 60, 21, 42, 63, 24, 48,\n",
       "       72,  9, 18, 27, 36, 45, 54, 63, 72, 81, 90, 30, 60, 90])"
      ]
     },
     "execution_count": 44,
     "metadata": {},
     "output_type": "execute_result"
    }
   ],
   "source": [
    "M = array([[j*i for j in range(1,11)] for i in range(2, 11)])\n",
    "\n",
    "print(M)\n",
    "\n",
    "mask = mod(M, 3) == 0\n",
    "\n",
    "print(mask)\n",
    "\n",
    "M[mask]"
   ]
  },
  {
   "cell_type": "markdown",
   "metadata": {},
   "source": [
    "### Задание 7\n",
    "Разбить массив таблицы умножения из задания 1 на два массива содержащие четные и нечетные значения, а затем собрать его в исходное состояние используя choose()"
   ]
  },
  {
   "cell_type": "code",
   "execution_count": null,
   "metadata": {},
   "outputs": [
    {
     "name": "stdout",
     "output_type": "stream",
     "text": [
      "[[ 0  0  0  0  0  0  0  0  0  0]\n",
      " [ 3  0  9  0 15  0 21  0 27  0]\n",
      " [ 0  0  0  0  0  0  0  0  0  0]\n",
      " [ 5  0 15  0 25  0 35  0 45  0]\n",
      " [ 0  0  0  0  0  0  0  0  0  0]\n",
      " [ 7  0 21  0 35  0 49  0 63  0]\n",
      " [ 0  0  0  0  0  0  0  0  0  0]\n",
      " [ 9  0 27  0 45  0 63  0 81  0]\n",
      " [ 0  0  0  0  0  0  0  0  0  0]]\n",
      "[[  2   4   6   8  10  12  14  16  18  20]\n",
      " [  0   6   0  12   0  18   0  24   0  30]\n",
      " [  4   8  12  16  20  24  28  32  36  40]\n",
      " [  0  10   0  20   0  30   0  40   0  50]\n",
      " [  6  12  18  24  30  36  42  48  54  60]\n",
      " [  0  14   0  28   0  42   0  56   0  70]\n",
      " [  8  16  24  32  40  48  56  64  72  80]\n",
      " [  0  18   0  36   0  54   0  72   0  90]\n",
      " [ 10  20  30  40  50  60  70  80  90 100]]\n",
      "[[  2   4   6   8  10  12  14  16  18  20]\n",
      " [  3   6   9  12  15  18  21  24  27  30]\n",
      " [  4   8  12  16  20  24  28  32  36  40]\n",
      " [  5  10  15  20  25  30  35  40  45  50]\n",
      " [  6  12  18  24  30  36  42  48  54  60]\n",
      " [  7  14  21  28  35  42  49  56  63  70]\n",
      " [  8  16  24  32  40  48  56  64  72  80]\n",
      " [  9  18  27  36  45  54  63  72  81  90]\n",
      " [ 10  20  30  40  50  60  70  80  90 100]]\n"
     ]
    }
   ],
   "source": [
    "M = array([[j*i for j in range(1,11)] for i in range(2, 11)])\n",
    "\n",
    "mask = mod(M, 2) == 0\n",
    "mask2 = mod(M, 2) != 0\n",
    "\n",
    "M1 = M.copy()\n",
    "M2 = M.copy()\n",
    "\n",
    "M1[mask] = 0\n",
    "M2[mask2] = 0\n",
    "\n",
    "print(M1, M2, sep=\"\\n\")\n",
    "\n",
    "print(choose(mask, [M1, M2]))"
   ]
  },
  {
   "cell_type": "markdown",
   "metadata": {},
   "source": [
    "### Задание 8\n",
    "Даны вектора v1(0,1,2,3,4) v2(5,6,7,8,9) найти угол между ними, учитывая что косинус угла между векторами можно найти как отношения их скалярного произведения к их длинам."
   ]
  },
  {
   "cell_type": "code",
   "execution_count": 8,
   "metadata": {},
   "outputs": [
    {
     "name": "stdout",
     "output_type": "stream",
     "text": [
      "[0 1 2 3 4] [5 6 7 8 9]\n",
      "23.842636023792355\n"
     ]
    }
   ],
   "source": [
    "import math\n",
    "from math import pi\n",
    "\n",
    "v1 = arange(0, 5, 1)\n",
    "v2 = arange(5, 10, 1)\n",
    "print(v1, v2)\n",
    "\n",
    "# Скалярное произведение\n",
    "pr = sum(v1*v2)\n",
    "\n",
    "v1 = v1*v1\n",
    "\n",
    "v2 = v2*v2\n",
    "\n",
    "dv1 = sum(v1)**0.5\n",
    "\n",
    "dv2 = sum(v2)**0.5\n",
    "\n",
    "angl = math.acos(pr/(dv1*dv2)) \n",
    "\n",
    "# угол между векторами\n",
    "print(angl * (180/pi))"
   ]
  },
  {
   "cell_type": "markdown",
   "metadata": {},
   "source": [
    "### Задача 9\n",
    "Создайте две матрицы размером (5,5). Одна матрица содержит 5 в шахматном порядке как в задаче домашнего задания, другая имеет треугольную форму содержающую 5 на основной диагонали и в позициях выше ее, а ниже все 0. Посчитайте их детерминант и найдите обратные матрицы. Если для матрицы не у дается найти обратную, видимо этому мешает нулевое значение детерминанта."
   ]
  },
  {
   "cell_type": "code",
   "execution_count": null,
   "metadata": {},
   "outputs": [
    {
     "name": "stdout",
     "output_type": "stream",
     "text": [
      "Матрица: 1\n",
      " [[5. 0. 5. 0. 5.]\n",
      " [0. 5. 0. 5. 0.]\n",
      " [5. 0. 5. 0. 5.]\n",
      " [0. 5. 0. 5. 0.]\n",
      " [5. 0. 5. 0. 5.]]\n",
      "Матрица: 2\n",
      " [[5. 5. 5. 5. 5.]\n",
      " [0. 5. 5. 5. 5.]\n",
      " [0. 0. 5. 5. 5.]\n",
      " [0. 0. 0. 5. 5.]\n",
      " [0. 0. 0. 0. 5.]]\n",
      "0.0\n",
      "3124.999999999999\n",
      "[[inf nan inf nan inf]\n",
      " [nan inf nan inf nan]\n",
      " [inf nan inf nan inf]\n",
      " [nan inf nan inf nan]\n",
      " [inf nan inf nan inf]]\n",
      "[[0.0016 0.     0.     0.     0.    ]\n",
      " [0.0016 0.0016 0.     0.     0.    ]\n",
      " [0.0016 0.0016 0.0016 0.     0.    ]\n",
      " [0.0016 0.0016 0.0016 0.0016 0.    ]\n",
      " [0.0016 0.0016 0.0016 0.0016 0.0016]]\n"
     ]
    },
    {
     "name": "stderr",
     "output_type": "stream",
     "text": [
      "C:\\Users\\AndroidS\\AppData\\Local\\Temp\\ipykernel_47000\\3522139215.py:21: RuntimeWarning: divide by zero encountered in double_scalars\n",
      "  print(1/linalg.det(M1)*M1.T)\n",
      "C:\\Users\\AndroidS\\AppData\\Local\\Temp\\ipykernel_47000\\3522139215.py:21: RuntimeWarning: invalid value encountered in multiply\n",
      "  print(1/linalg.det(M1)*M1.T)\n"
     ]
    }
   ],
   "source": [
    "M1 = zeros((5,5))\n",
    "\n",
    "M2 = zeros((5,5))\n",
    "\n",
    "#print(M1, M2, sep='\\n')\n",
    "\n",
    "M1[::2, ::2] = 5\n",
    "M1[1::2, 1::2] = 5\n",
    "\n",
    "print(\"Матрица: 1\\n\", M1)\n",
    "\n",
    "\n",
    "M2 = array([[0. if i <j else 5. for i in range(5)] for j in range(5)])\n",
    "\n",
    "print(\"Матрица: 2\\n\", M2)\n",
    "\n",
    "\n",
    "print(\"Детерминант матрицы 1: \", linalg.det(M1))\n",
    "print(\"Детерминант матрицы 1: \", linalg.det(M2))\n",
    "\n",
    "print(\"Обратная матрица\", 1/linalg.det(M1)*M1.T)\n",
    "print(1/linalg.det(M2)*M2.T)"
   ]
  }
 ],
 "metadata": {
  "kernelspec": {
   "display_name": "Python 3.9.5 64-bit",
   "language": "python",
   "name": "python3"
  },
  "language_info": {
   "codemirror_mode": {
    "name": "ipython",
    "version": 3
   },
   "file_extension": ".py",
   "mimetype": "text/x-python",
   "name": "python",
   "nbconvert_exporter": "python",
   "pygments_lexer": "ipython3",
   "version": "3.9.5"
  },
  "orig_nbformat": 4,
  "vscode": {
   "interpreter": {
    "hash": "c213d6c268bb2c5a6a38f04c7de751b704a5b3225149582f36a09002f1d0f7ab"
   }
  }
 },
 "nbformat": 4,
 "nbformat_minor": 2
}
