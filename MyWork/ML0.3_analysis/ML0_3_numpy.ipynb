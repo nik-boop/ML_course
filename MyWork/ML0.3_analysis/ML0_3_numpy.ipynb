{
 "cells": [
  {
   "cell_type": "code",
   "execution_count": 26,
   "metadata": {
    "collapsed": true,
    "pycharm": {
     "name": "#%%\n"
    }
   },
   "outputs": [],
   "source": [
    "import numpy as np\n",
    "import pandas as pd"
   ]
  },
  {
   "cell_type": "markdown",
   "metadata": {
    "collapsed": false,
    "pycharm": {
     "name": "#%% md\n"
    }
   },
   "source": [
    "#### Задания для выполнения\n",
    "2. Чтение excel файла и составление описательной статистики по набранному баллу"
   ]
  },
  {
   "cell_type": "code",
   "execution_count": 27,
   "metadata": {
    "collapsed": false,
    "pycharm": {
     "name": "#%%\n"
    }
   },
   "outputs": [
    {
     "name": "stdout",
     "output_type": "stream",
     "text": [
      "[ 20  20  22 ... 100 100 100]\n",
      "72.76902887139107\n"
     ]
    }
   ],
   "source": [
    "pandas_reader = pd.read_excel(\"./data/Вариант 1.xlsx\")\n",
    "score = pandas_reader[\"Unnamed: 9\"][2:3050]\n",
    "\n",
    "score_array = np.array(score, dtype=\"int\")\n",
    "print(score_array)\n",
    "score_mean = np.mean(score_array)\n",
    "print(score_mean)\n"
   ]
  },
  {
   "cell_type": "markdown",
   "metadata": {
    "collapsed": false,
    "pycharm": {
     "name": "#%% md\n"
    }
   },
   "source": [
    "4. Найдите процент учащихся, выполнивших работу ниже среднего"
   ]
  },
  {
   "cell_type": "code",
   "execution_count": 3,
   "metadata": {
    "collapsed": false,
    "pycharm": {
     "name": "#%%\n"
    }
   },
   "outputs": [
    {
     "name": "stdout",
     "output_type": "stream",
     "text": [
      "1563\n",
      "51.28%\n"
     ]
    }
   ],
   "source": [
    "print(count_below_average := len(score_array[score_array<score_mean]))\n",
    "percentage_below_average = round(count_below_average/len(score_array) * 100, 3)\n",
    "print(f\"{percentage_below_average}%\")"
   ]
  },
  {
   "cell_type": "markdown",
   "metadata": {
    "collapsed": false,
    "pycharm": {
     "name": "#%% md\n"
    }
   },
   "source": [
    "5. Найти процент учащихся не сдавших экзамен"
   ]
  },
  {
   "cell_type": "code",
   "execution_count": 4,
   "metadata": {
    "collapsed": false,
    "pycharm": {
     "name": "#%%\n"
    }
   },
   "outputs": [
    {
     "name": "stdout",
     "output_type": "stream",
     "text": [
      "4\n",
      "0.131%\n"
     ]
    }
   ],
   "source": [
    "minimal_score = pandas_reader[\"Unnamed: 10\"][2]\n",
    "\n",
    "print(count_not_passed := len(score_array[score_array<minimal_score]))\n",
    "percentage_not_passed = round(count_not_passed/len(score_array) * 100, 3)\n",
    "print(f\"{percentage_not_passed}%\")"
   ]
  },
  {
   "cell_type": "markdown",
   "metadata": {
    "collapsed": false,
    "pycharm": {
     "name": "#%% md\n"
    }
   },
   "source": [
    "6. Постройте круговую диаграмму, показывающую распределение сдавших и не сдавших экзамен"
   ]
  },
  {
   "cell_type": "code",
   "execution_count": 5,
   "metadata": {
    "collapsed": false,
    "pycharm": {
     "name": "#%%\n"
    }
   },
   "outputs": [
    {
     "data": {
      "image/png": "[encoded data removed]",
      "text/plain": [
       "<Figure size 432x288 with 1 Axes>"
      ]
     },
     "metadata": {},
     "output_type": "display_data"
    }
   ],
   "source": [
    "import matplotlib.pyplot as plt\n",
    "\n",
    "labels = [\"Сдавшие\", \"Не сдавшие\"]\n",
    "values = [100 - percentage_not_passed, percentage_not_passed]\n",
    "colors = [\"yellow\", \"red\"]\n",
    "\n",
    "plt.pie(values, labels=labels, colors=colors)\n",
    "plt.show()"
   ]
  },
  {
   "cell_type": "markdown",
   "metadata": {
    "collapsed": false,
    "pycharm": {
     "name": "#%% md\n"
    }
   },
   "source": [
    "7. Постройте ядерную оценку плотности распределению баллов за экзамен"
   ]
  },
  {
   "cell_type": "code",
   "execution_count": 6,
   "metadata": {
    "collapsed": false,
    "pycharm": {
     "name": "#%%\n"
    }
   },
   "outputs": [
    {
     "data": {
      "image/png": "[encoded data removed]",
      "text/plain": [
       "<Figure size 432x288 with 1 Axes>"
      ]
     },
     "metadata": {
      "needs_background": "light"
     },
     "output_type": "display_data"
    }
   ],
   "source": [
    "from sklearn.neighbors import KernelDensity\n",
    "\n",
    "score_array_2d = score_array.reshape(-1, 1)\n",
    "\n",
    "\n",
    "kde = KernelDensity(kernel=\"gaussian\", bandwidth=0.5).fit(score_array_2d)\n",
    "x_test = np.linspace(0, 100, 2000)[:, np.newaxis]\n",
    "log_dens = kde.score_samples(x_test)\n",
    "\n",
    "plt.fill(x_test, np.exp(log_dens), c=\"red\")\n",
    "plt.show()"
   ]
  },
  {
   "cell_type": "markdown",
   "metadata": {
    "collapsed": false,
    "pycharm": {
     "name": "#%% md\n"
    }
   },
   "source": [
    "8. Найдите процентное соотношение учащихся, сдавших экзамен на «отлично», «хорошо», «удовлетворительно», «неудовлетворительно».\n",
    "\n",
    "\n",
    "- Русский язык:\n",
    "\n",
    "- 0-35 баллов соответствуют оценке 2,\n",
    "- 36-56 баллов - оценка 3,\n",
    "- 57-71 баллов - оценка 4,\n",
    "- 72 баллов и выше - оценка 5;"
   ]
  },
  {
   "cell_type": "code",
   "execution_count": 9,
   "metadata": {
    "collapsed": false,
    "pycharm": {
     "name": "#%%\n"
    }
   },
   "outputs": [
    {
     "name": "stdout",
     "output_type": "stream",
     "text": [
      "1625 1050 352 21\n",
      "3048\n",
      "53.314 34.449 11.549 0.689\n",
      "100.001\n"
     ]
    }
   ],
   "source": [
    "count_excellent = len(score_array[score_array>71])\n",
    "count_good = len(score_array[(score_array>56)*(score_array<=71)])\n",
    "count_acceptable = len(score_array[(score_array>35)*(score_array<=56)])\n",
    "count_not_acceptable = len(score_array[score_array<36])\n",
    "\n",
    "print(count_excellent, count_good, count_acceptable, count_not_acceptable)\n",
    "print(count_excellent + count_good + count_acceptable + count_not_acceptable)\n",
    "\n",
    "percentage_excellent = round(count_excellent/len(score_array) * 100, 3)\n",
    "percentage_good = round(count_good/len(score_array) * 100, 3)\n",
    "percentage_acceptable = round(count_acceptable/len(score_array) * 100, 3)\n",
    "percentage_not_acceptable = round(count_not_acceptable/len(score_array) * 100, 3)\n",
    "\n",
    "print(percentage_excellent, percentage_good, percentage_acceptable, percentage_not_acceptable)"
   ]
  },
  {
   "cell_type": "markdown",
   "metadata": {
    "collapsed": false,
    "pycharm": {
     "name": "#%% md\n"
    }
   },
   "source": [
    "8. Какое процентное соотношение юношей и девушек писало данный экзамен?"
   ]
  },
  {
   "cell_type": "code",
   "execution_count": 10,
   "metadata": {
    "collapsed": false,
    "pycharm": {
     "name": "#%%\n"
    }
   },
   "outputs": [
    {
     "name": "stdout",
     "output_type": "stream",
     "text": [
      "42.028 57.972\n",
      "100.0\n"
     ]
    }
   ],
   "source": [
    "gender_data = pandas_reader[\"Unnamed: 3\"][2:3050]\n",
    "\n",
    "count_male = len(gender_data[gender_data==\"М\"])\n",
    "count_female = len(gender_data[gender_data==\"Ж\"])\n",
    "\n",
    "percentage_male = round(count_male / len(gender_data) * 100, 3)\n",
    "percentage_female = round(count_female / len(gender_data) * 100, 3)\n",
    "\n",
    "print(percentage_male, percentage_female)\n",
    "print(percentage_male + percentage_female)"
   ]
  },
  {
   "cell_type": "markdown",
   "metadata": {
    "collapsed": false,
    "pycharm": {
     "name": "#%% md\n"
    }
   },
   "source": [
    "9. Сколько школ принимало участие в экзамене?"
   ]
  },
  {
   "cell_type": "code",
   "execution_count": 11,
   "metadata": {
    "collapsed": false,
    "pycharm": {
     "name": "#%%\n"
    }
   },
   "outputs": [
    {
     "name": "stdout",
     "output_type": "stream",
     "text": [
      "24\n",
      "24\n"
     ]
    }
   ],
   "source": [
    "school_data = pandas_reader[\"Unnamed: 1\"][2:3050]\n",
    "\n",
    "unique_school_array = school_data.unique()\n",
    "\n",
    "print(len(unique_school_array))\n",
    "\n"
   ]
  },
  {
   "cell_type": "markdown",
   "metadata": {
    "collapsed": false,
    "pycharm": {
     "name": "#%% md\n"
    }
   },
   "source": [
    "#### Дополнительные задания\n",
    "\n",
    "1. Сколько всего заданий с кратким ответом? С развернутым ответом?"
   ]
  },
  {
   "cell_type": "code",
   "execution_count": 13,
   "metadata": {
    "collapsed": false,
    "pycharm": {
     "name": "#%%\n"
    }
   },
   "outputs": [
    {
     "name": "stdout",
     "output_type": "stream",
     "text": [
      "25\n",
      "12\n"
     ]
    }
   ],
   "source": [
    "import re\n",
    "\n",
    "short_answer_data = pandas_reader[\"Unnamed: 5\"][3049]\n",
    "\n",
    "print(len(short_answer_data))\n",
    "\n",
    "long_answer_data = pandas_reader[\"Unnamed: 6\"][3049]\n",
    "\n",
    "ans = re.findall(r\"\\(\\d\\)\", long_answer_data)\n",
    "print(len(ans))"
   ]
  },
  {
   "cell_type": "markdown",
   "metadata": {
    "collapsed": false,
    "pycharm": {
     "name": "#%% md\n"
    }
   },
   "source": [
    "2. Пусть задания с кратким ответом будут задания типа В. Соответственно всего по экзамену вопросов класса В: В 1 … В к Посчитайте процент выполненных и невыполненных заданий по каждому вопросу класса В."
   ]
  },
  {
   "cell_type": "code",
   "execution_count": 41,
   "metadata": {
    "collapsed": false,
    "pycharm": {
     "name": "#%%\n"
    }
   },
   "outputs": [
    {
     "name": "stdout",
     "output_type": "stream",
     "text": [
      "[3008, 2831, 2662, 2356, 1797, 2762, 2897, 2304, 2564, 2953, 2840, 2302, 2534, 2139, 2975, 2102, 2049, 2261, 2114, 2522, 2190, 1465, 2333, 755]\n",
      "B_01: 98.69%\n",
      "B_02: 92.88%\n",
      "B_03: 87.34%\n",
      "B_04: 77.3%\n",
      "B_05: 58.96%\n",
      "B_06: 90.62%\n",
      "B_07: 95.05%\n",
      "B_08: 75.59%\n",
      "B_09: 84.12%\n",
      "B_10: 96.88%\n",
      "B_11: 93.18%\n",
      "B_12: 75.52%\n",
      "B_13: 83.14%\n",
      "B_14: 70.18%\n",
      "B_15: 97.6%\n",
      "B_16: 68.96%\n",
      "B_17: 67.22%\n",
      "B_18: 74.18%\n",
      "B_19: 69.36%\n",
      "B_20: 82.74%\n",
      "B_21: 71.85%\n",
      "B_22: 48.06%\n",
      "B_23: 76.54%\n",
      "B_24: 24.77%\n"
     ]
    }
   ],
   "source": [
    "\n",
    "from itertools import repeat\n",
    "\n",
    "\n",
    "b_answer_data = pandas_reader[\"Unnamed: 5\"][2:3050]\n",
    "answerCount = [i for i in repeat(0, 24)]\n",
    "\n",
    "def check_answer(x):\n",
    "    for i in range(24):\n",
    "        if x[i] != \"-\" and x[i] != \"0\":\n",
    "            answerCount[i] += 1\n",
    "\n",
    "\n",
    "b_answer_data.map(check_answer)\n",
    "\n",
    "print(answerCount)\n",
    "\n",
    "\n",
    "for i in range(24):\n",
    "    print(f\"B_{str(i+1).rjust(2, '0')}: {round(answerCount[i]/3048*100, 2)}%\")\n",
    "\n"
   ]
  },
  {
   "cell_type": "markdown",
   "metadata": {
    "collapsed": false,
    "pycharm": {
     "name": "#%% md\n"
    }
   },
   "source": [
    "3. Аналогично и с типом С (ответы с развернутым ответом)"
   ]
  },
  {
   "cell_type": "code",
   "execution_count": 40,
   "metadata": {},
   "outputs": [
    {
     "name": "stdout",
     "output_type": "stream",
     "text": [
      "[2949, 2887, 2879, 2873, 2940, 2970, 2816, 2484, 2566, 2491, 2987, 2577]\n",
      "C_01: 96.75%\n",
      "C_02: 94.72%\n",
      "C_03: 94.46%\n",
      "C_04: 94.26%\n",
      "C_05: 96.46%\n",
      "C_06: 97.44%\n",
      "C_07: 92.39%\n",
      "C_08: 81.5%\n",
      "C_09: 84.19%\n",
      "C_10: 81.73%\n",
      "C_11: 98.0%\n",
      "C_12: 84.55%\n"
     ]
    }
   ],
   "source": [
    "from itertools import repeat\n",
    "import re\n",
    "\n",
    "c_answer_data = pandas_reader[\"Unnamed: 6\"][2:3050]\n",
    "answerCount = [i for i in repeat(0, 12)]\n",
    "\n",
    "def check_answer(x):\n",
    "    x = re.sub(r\"\\(\\d\\)\", \"\", x)\n",
    "    for i in range(12):\n",
    "        if x[i] != \"0\":\n",
    "            answerCount[i] += 1\n",
    "\n",
    "\n",
    "c_answer_data.map(check_answer)\n",
    "\n",
    "print(answerCount)\n",
    "\n",
    "\n",
    "for i in range(12):\n",
    "    print(f\"C_{str(i+1).rjust(2, '0')}: {round(answerCount[i]/3048*100, 2)}%\")"
   ]
  },
  {
   "cell_type": "markdown",
   "metadata": {
    "collapsed": false,
    "pycharm": {
     "name": "#%% md\n"
    }
   },
   "source": [
    "4. Сделайте анализ по двум школам:\n",
    "    i. по всем выполненным заданиям типа В\n",
    "    ii. по заданиям типа С больше 50%\n",
    "    iii. по среднему баллу юношей и девушек"
   ]
  },
  {
   "cell_type": "markdown",
   "metadata": {
    "collapsed": false,
    "pycharm": {
     "name": "#%% md\n"
    }
   },
   "source": [
    "Для выполнения задания будем использовать данные по школам 148 и 152"
   ]
  },
  {
   "cell_type": "code",
   "execution_count": 3,
   "metadata": {
    "collapsed": false,
    "pycharm": {
     "name": "#%%\n"
    }
   },
   "outputs": [
    {
     "ename": "NameError",
     "evalue": "name 'school_data' is not defined",
     "output_type": "error",
     "traceback": [
      "\u001b[0;31m---------------------------------------------------------------------------\u001b[0m",
      "\u001b[0;31mNameError\u001b[0m                                 Traceback (most recent call last)",
      "Input \u001b[0;32mIn [3]\u001b[0m, in \u001b[0;36m<cell line: 11>\u001b[0;34m()\u001b[0m\n\u001b[1;32m      9\u001b[0m school_152_female_score \u001b[38;5;241m=\u001b[39m []\n\u001b[1;32m     11\u001b[0m \u001b[38;5;28;01mfor\u001b[39;00m i \u001b[38;5;129;01min\u001b[39;00m \u001b[38;5;28mrange\u001b[39m(\u001b[38;5;241m2\u001b[39m, \u001b[38;5;28mlen\u001b[39m(score)):\n\u001b[0;32m---> 12\u001b[0m     \u001b[38;5;28;01mif\u001b[39;00m \u001b[43mschool_data\u001b[49m[i] \u001b[38;5;241m==\u001b[39m \u001b[38;5;241m148\u001b[39m:\n\u001b[1;32m     13\u001b[0m         \u001b[38;5;28;01mif\u001b[39;00m gender_data[i] \u001b[38;5;241m==\u001b[39m \u001b[38;5;124m\"\u001b[39m\u001b[38;5;124mМ\u001b[39m\u001b[38;5;124m\"\u001b[39m:\n\u001b[1;32m     14\u001b[0m            school_148_male_score\u001b[38;5;241m.\u001b[39mappend(score[i])\n",
      "\u001b[0;31mNameError\u001b[0m: name 'school_data' is not defined"
     ]
    }
   ],
   "source": [
    "#print(score)\n",
    "#print(school_data)\n",
    "#print(gender_data)\n",
    "\n",
    "school_148_male_score = []\n",
    "school_148_female_score = []\n",
    "\n",
    "school_152_male_score = []\n",
    "school_152_female_score = []\n",
    "\n",
    "for i in range(2, len(score)):\n",
    "    if school_data[i] == 148:\n",
    "        if gender_data[i] == \"М\":\n",
    "           school_148_male_score.append(score[i])\n",
    "        if gender_data[i] == \"Ж\":\n",
    "            school_148_female_score.append(score[i])\n",
    "    if school_data[i] == 152:\n",
    "        if gender_data[i] == \"М\":\n",
    "            school_152_male_score.append(score[i])\n",
    "        if gender_data[i] == \"Ж\":\n",
    "            school_152_female_score.append(score[i])\n",
    "\n",
    "\n",
    "#print(school_148_male_score, school_148_female_score, school_152_male_score, school_152_female_score)\n",
    "print(np.mean(school_148_male_score))\n",
    "print(np.mean(school_148_female_score))\n",
    "\n",
    "print(np.mean(school_152_male_score))\n",
    "print(np.mean(school_152_female_score))"
   ]
  },
  {
   "cell_type": "code",
   "execution_count": null,
   "metadata": {
    "collapsed": false,
    "pycharm": {
     "name": "#%%\n"
    }
   },
   "outputs": [],
   "source": []
  }
 ],
 "metadata": {
  "kernelspec": {
   "display_name": "Python 3.9.7 ('base')",
   "language": "python",
   "name": "python3"
  },
  "language_info": {
   "codemirror_mode": {
    "name": "ipython",
    "version": 3
   },
   "file_extension": ".py",
   "mimetype": "text/x-python",
   "name": "python",
   "nbconvert_exporter": "python",
   "pygments_lexer": "ipython3",
   "version": "3.9.12"
  },
  "vscode": {
   "interpreter": {
    "hash": "1419bd21a39e0a5e4c0c6c6fd27c577ec3fc8576f5926a12b14acbe8df8d9951"
   }
  }
 },
 "nbformat": 4,
 "nbformat_minor": 0
}
