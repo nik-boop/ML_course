{
 "cells": [
  {
   "cell_type": "code",
   "execution_count": 1,
   "metadata": {
    "collapsed": true,
    "pycharm": {
     "name": "#%%\n"
    }
   },
   "outputs": [],
   "source": [
    "import numpy as np\n",
    "import pandas as pd"
   ]
  },
  {
   "cell_type": "markdown",
   "source": [
    "#### Задания для выполнения\n",
    "2. Чтение excel файла и составление описательной статистики по набранному баллу"
   ],
   "metadata": {
    "collapsed": false,
    "pycharm": {
     "name": "#%% md\n"
    }
   }
  },
  {
   "cell_type": "code",
   "execution_count": 2,
   "outputs": [
    {
     "name": "stdout",
     "output_type": "stream",
     "text": [
      "[ 20  20  22 ... 100 100 100]\n",
      "72.76902887139107\n"
     ]
    }
   ],
   "source": [
    "pandas_reader = pd.read_excel(\"./data/variant_1.xlsx\")\n",
    "score = pandas_reader[\"Unnamed: 9\"][2:3050]\n",
    "\n",
    "score_array = np.array(score, dtype=\"int\")\n",
    "print(score_array)\n",
    "score_mean = np.mean(score_array)\n",
    "print(score_mean)\n"
   ],
   "metadata": {
    "collapsed": false,
    "pycharm": {
     "name": "#%%\n"
    }
   }
  },
  {
   "cell_type": "markdown",
   "source": [],
   "metadata": {
    "collapsed": false,
    "pycharm": {
     "name": "#%% md\n"
    }
   }
  },
  {
   "cell_type": "code",
   "execution_count": null,
   "outputs": [],
   "source": [],
   "metadata": {
    "collapsed": false,
    "pycharm": {
     "name": "#%%\n"
    }
   }
  },
  {
   "cell_type": "markdown",
   "source": [
    "4. Найдите процент учащихся, выполнивших работу ниже среднего"
   ],
   "metadata": {
    "collapsed": false,
    "pycharm": {
     "name": "#%% md\n"
    }
   }
  },
  {
   "cell_type": "code",
   "execution_count": 15,
   "outputs": [
    {
     "name": "stdout",
     "output_type": "stream",
     "text": [
      "1563\n",
      "51.28%\n"
     ]
    }
   ],
   "source": [
    "count_below_average = 0\n",
    "for each in score_array:\n",
    "    if each < score_mean:\n",
    "        count_below_average += 1\n",
    "\n",
    "print(count_below_average)\n",
    "percentage_below_average = round(count_below_average/len(score_array) * 100, 3)\n",
    "print(f\"{percentage_below_average}%\")"
   ],
   "metadata": {
    "collapsed": false,
    "pycharm": {
     "name": "#%%\n"
    }
   }
  },
  {
   "cell_type": "markdown",
   "source": [
    "5. Найти процент учащихся не сдавших экзамен"
   ],
   "metadata": {
    "collapsed": false,
    "pycharm": {
     "name": "#%% md\n"
    }
   }
  },
  {
   "cell_type": "code",
   "execution_count": 64,
   "outputs": [
    {
     "name": "stdout",
     "output_type": "stream",
     "text": [
      "21\n",
      "0.689%\n"
     ]
    }
   ],
   "source": [
    "minimal_score = pandas_reader[\"Unnamed: 10\"][2]\n",
    "\n",
    "count_not_passed = 0\n",
    "for each in score_array:\n",
    "    if each < 36:\n",
    "        count_not_passed += 1\n",
    "\n",
    "print(count_not_passed)\n",
    "percentage_not_passed = round(count_not_passed/len(score_array) * 100, 3)\n",
    "print(f\"{percentage_not_passed}%\")"
   ],
   "metadata": {
    "collapsed": false,
    "pycharm": {
     "name": "#%%\n"
    }
   }
  },
  {
   "cell_type": "markdown",
   "source": [
    "6. Постройте круговую диаграмму, показывающую распределение сдавших и не сдавших экзамен"
   ],
   "metadata": {
    "collapsed": false,
    "pycharm": {
     "name": "#%% md\n"
    }
   }
  },
  {
   "cell_type": "code",
   "execution_count": 65,
   "outputs": [
    {
     "data": {
      "text/plain": "<Figure size 432x288 with 1 Axes>",
      "image/png": "[encoded data removed]"
     },
     "metadata": {},
     "output_type": "display_data"
    }
   ],
   "source": [
    "import matplotlib.pyplot as plt\n",
    "\n",
    "labels = [\"Сдавшие\", \"Не сдавшие\"]\n",
    "values = [100 - percentage_not_passed, percentage_not_passed]\n",
    "colors = [\"yellow\", \"red\"]\n",
    "\n",
    "plt.pie(values, labels=labels, colors=colors)\n",
    "plt.show()"
   ],
   "metadata": {
    "collapsed": false,
    "pycharm": {
     "name": "#%%\n"
    }
   }
  },
  {
   "cell_type": "markdown",
   "source": [
    "7. Постройте ядерную оценку плотности распределению баллов за экзамен"
   ],
   "metadata": {
    "collapsed": false,
    "pycharm": {
     "name": "#%% md\n"
    }
   }
  },
  {
   "cell_type": "code",
   "execution_count": 41,
   "outputs": [
    {
     "data": {
      "text/plain": "<Figure size 432x288 with 1 Axes>",
      "image/png": "[encoded data removed]"
     },
     "metadata": {
      "needs_background": "light"
     },
     "output_type": "display_data"
    }
   ],
   "source": [
    "from sklearn.neighbors import KernelDensity\n",
    "\n",
    "score_array_2d = score_array.reshape(-1, 1)\n",
    "\n",
    "\n",
    "kde = KernelDensity(kernel=\"gaussian\", bandwidth=0.5).fit(score_array_2d)\n",
    "x_test = np.linspace(0, 100, 2000)[:, np.newaxis]\n",
    "log_dens = kde.score_samples(x_test)\n",
    "\n",
    "plt.fill(x_test, np.exp(log_dens), c=\"red\")\n",
    "plt.show()"
   ],
   "metadata": {
    "collapsed": false,
    "pycharm": {
     "name": "#%%\n"
    }
   }
  },
  {
   "cell_type": "markdown",
   "source": [
    "8. Найдите процентное соотношение учащихся, сдавших экзамен на «отлично», «хорошо», «удовлетворительно», «неудовлетворительно».\n",
    "\n",
    "\n",
    "- Русский язык:\n",
    "\n",
    "- 0-35 баллов соответствуют оценке 2,\n",
    "- 36-56 баллов - оценка 3,\n",
    "- 57-71 баллов - оценка 4,\n",
    "- 72 баллов и выше - оценка 5;"
   ],
   "metadata": {
    "collapsed": false,
    "pycharm": {
     "name": "#%% md\n"
    }
   }
  },
  {
   "cell_type": "code",
   "execution_count": 48,
   "outputs": [
    {
     "name": "stdout",
     "output_type": "stream",
     "text": [
      "1625 1050 352 21\n",
      "3048\n",
      "53.314 34.449 11.549 0.689\n"
     ]
    }
   ],
   "source": [
    "count_excellent = 0\n",
    "count_good = 0\n",
    "count_acceptable = 0\n",
    "count_not_acceptable = 0\n",
    "\n",
    "for each in score_array:\n",
    "    if each >= 72:\n",
    "        count_excellent += 1\n",
    "    if 71 >= each >= 57:\n",
    "        count_good += 1\n",
    "    if 56 >= each >= 36:\n",
    "        count_acceptable += 1\n",
    "    if each <= 35:\n",
    "        count_not_acceptable += 1\n",
    "\n",
    "print(count_excellent, count_good, count_acceptable, count_not_acceptable)\n",
    "print(count_excellent + count_good + count_acceptable + count_not_acceptable)\n",
    "\n",
    "percentage_excellent = round(count_excellent/len(score_array) * 100, 3)\n",
    "percentage_good = round(count_good/len(score_array) * 100, 3)\n",
    "percentage_acceptable = round(count_acceptable/len(score_array) * 100, 3)\n",
    "percentage_not_acceptable = round(count_not_acceptable/len(score_array) * 100, 3)\n",
    "\n",
    "print(percentage_excellent, percentage_good, percentage_acceptable, percentage_not_acceptable)"
   ],
   "metadata": {
    "collapsed": false,
    "pycharm": {
     "name": "#%%\n"
    }
   }
  },
  {
   "cell_type": "markdown",
   "source": [
    "8. Какое процентное соотношение юношей и девушек писало данный экзамен?"
   ],
   "metadata": {
    "collapsed": false,
    "pycharm": {
     "name": "#%% md\n"
    }
   }
  },
  {
   "cell_type": "code",
   "execution_count": 22,
   "outputs": [
    {
     "name": "stdout",
     "output_type": "stream",
     "text": [
      "42.028 57.972\n",
      "100.0\n"
     ]
    }
   ],
   "source": [
    "gender_data = pandas_reader[\"Unnamed: 3\"][2:3050]\n",
    "\n",
    "count_male = 0\n",
    "count_female = 0\n",
    "\n",
    "for each in gender_data:\n",
    "    if each == \"М\":\n",
    "        count_male += 1\n",
    "    if each == \"Ж\":\n",
    "        count_female += 1\n",
    "\n",
    "percentage_male = round(count_male / len(gender_data) * 100, 3)\n",
    "percentage_female = round(count_female / len(gender_data) * 100, 3)\n",
    "\n",
    "print(percentage_male, percentage_female)\n",
    "print(percentage_male + percentage_female)"
   ],
   "metadata": {
    "collapsed": false,
    "pycharm": {
     "name": "#%%\n"
    }
   }
  },
  {
   "cell_type": "markdown",
   "source": [
    "9. Сколько школ принимало участие в экзамене?"
   ],
   "metadata": {
    "collapsed": false,
    "pycharm": {
     "name": "#%% md\n"
    }
   }
  },
  {
   "cell_type": "code",
   "execution_count": 9,
   "outputs": [
    {
     "name": "stdout",
     "output_type": "stream",
     "text": [
      "24\n",
      "24\n"
     ]
    }
   ],
   "source": [
    "school_data = pandas_reader[\"Unnamed: 1\"][2:3050]\n",
    "\n",
    "unique_school_array = []\n",
    "\n",
    "for each in school_data:\n",
    "    if each not in unique_school_array:\n",
    "        unique_school_array.append(each)\n",
    "\n",
    "print(len(unique_school_array))\n",
    "\n",
    "print(len(school_data.unique()))\n"
   ],
   "metadata": {
    "collapsed": false,
    "pycharm": {
     "name": "#%%\n"
    }
   }
  },
  {
   "cell_type": "markdown",
   "source": [
    "#### Дополнительные задания\n",
    "\n",
    "1. Сколько всего заданий с кратким ответом? С развернутым ответом?"
   ],
   "metadata": {
    "collapsed": false,
    "pycharm": {
     "name": "#%% md\n"
    }
   }
  },
  {
   "cell_type": "code",
   "execution_count": 97,
   "outputs": [
    {
     "name": "stdout",
     "output_type": "stream",
     "text": [
      "25\n",
      "['(1)', '(3)', '(1)', '(3)', '(2)', '(2)', '(3)', '(3)', '(2)', '(2)', '(1)', '(1)']\n",
      "12\n"
     ]
    }
   ],
   "source": [
    "import re\n",
    "\n",
    "short_answer_data = pandas_reader[\"Unnamed: 5\"][3049]\n",
    "\n",
    "print(len(short_answer_data))\n",
    "\n",
    "long_answer_data = pandas_reader[\"Unnamed: 6\"][3049]\n",
    "\n",
    "ans = re.findall(r\"\\W\\d\\W\", long_answer_data)\n",
    "print(ans)\n",
    "print(len(ans))"
   ],
   "metadata": {
    "collapsed": false,
    "pycharm": {
     "name": "#%%\n"
    }
   }
  },
  {
   "cell_type": "markdown",
   "source": [
    "2. Пусть задания с кратким ответом будут задания типа В. Соответственно всего по экзамену вопросов класса В: В 1 … В к Посчитайте процент выполненных и невыполненных заданий по каждому вопросу класса В."
   ],
   "metadata": {
    "collapsed": false,
    "pycharm": {
     "name": "#%% md\n"
    }
   }
  },
  {
   "cell_type": "code",
   "execution_count": 152,
   "outputs": [
    {
     "name": "stdout",
     "output_type": "stream",
     "text": [
      "3048\n",
      "{1: 6096, 2: 3048, 3: 3048, 4: 3048, 5: 3048, 6: 3048, 7: 15240, 8: 3048, 9: 3048, 10: 3048, 11: 3048, 12: 3048, 13: 3048, 14: 3048, 15: 6096, 16: 3048, 17: 3048, 18: 3048, 19: 3048, 20: 3048, 21: 3048, 22: 3048, 23: 3048, 24: 3048, 25: 12192}\n",
      "{1: 0, 2: 0, 3: 0, 4: 0, 5: 0, 6: 0, 7: 0, 8: 0, 9: 0, 10: 0, 11: 0, 12: 0, 13: 0, 14: 0, 15: 0, 16: 0, 17: 0, 18: 0, 19: 0, 20: 0, 21: 0, 22: 0, 23: 0, 24: 0, 25: 0}\n",
      "0\n",
      "['1+++--1+-++---0---------0' '1+---+0--+---+0----++-+-0'\n",
      " '2-----0--+----1---------1' ... '2+++++5+++++++2+++++++++4'\n",
      " '2+++++5+++++++2+++++++++4' '2+++++5+++++++2+++++++++4']\n"
     ]
    }
   ],
   "source": [
    "b_answer_data = pandas_reader[\"Unnamed: 5\"][2:3050]\n",
    "\n",
    "answers_max = {i: 0 for i in range(1, 26)}\n",
    "\n",
    "print(len(b_answer_data))\n",
    "\n",
    "for i in range(3048):\n",
    "    answers_max[1] += 2\n",
    "    for z in range(2, 7):\n",
    "        answers_max[z] += 1\n",
    "    #answers_max[2:7] += 1\n",
    "    answers_max[7] += 5\n",
    "    for z in range(8, 15):\n",
    "        answers_max[z] += 1\n",
    "    #answers_max[8:15] += 1\n",
    "    answers_max[15] += 2\n",
    "    for z in range(16, 25):\n",
    "        answers_max[z] += 1\n",
    "    #answers_max[16:25] += 1\n",
    "    answers_max[25] += 4\n",
    "\n",
    "print(answers_max)\n",
    "\n",
    "answers = {i: 0 for i in range(1, 26)}\n",
    "print(answers)\n",
    "print(answers[25])\n",
    "\n",
    "print(np.array(b_answer_data))"
   ],
   "metadata": {
    "collapsed": false,
    "pycharm": {
     "name": "#%%\n"
    }
   }
  },
  {
   "cell_type": "code",
   "execution_count": 153,
   "outputs": [
    {
     "name": "stdout",
     "output_type": "stream",
     "text": [
      "{1: 5498, 2: 2831, 3: 2662, 4: 2356, 5: 1797, 6: 2762, 7: 11672, 8: 2304, 9: 2564, 10: 2953, 11: 2840, 12: 2302, 13: 2534, 14: 2139, 15: 5304, 16: 2102, 17: 2049, 18: 2261, 19: 2114, 20: 2522, 21: 2190, 22: 1465, 23: 2333, 24: 755, 25: 9965}\n"
     ]
    }
   ],
   "source": [
    "for element in b_answer_data:\n",
    "    for i, symbol in enumerate(element):\n",
    "        if i+1 == 1 or i+1 == 7 or i+1 == 15 or i+1 == 25:\n",
    "            answers[i+1] += int(symbol)\n",
    "        else:\n",
    "            if symbol == \"+\":\n",
    "                answers[i+1] += 1\n",
    "\n",
    "print(answers)\n"
   ],
   "metadata": {
    "collapsed": false,
    "pycharm": {
     "name": "#%%\n"
    }
   }
  },
  {
   "cell_type": "code",
   "execution_count": 165,
   "outputs": [
    {
     "name": "stdout",
     "output_type": "stream",
     "text": [
      "{1: '90.19%', 2: '92.881%', 3: '87.336%', 4: '77.297%', 5: '58.957%', 6: '90.617%', 7: '76.588%', 8: '75.591%', 9: '84.121%', 10: '96.883%', 11: '93.176%', 12: '75.525%', 13: '83.136%', 14: '70.177%', 15: '87.008%', 16: '68.963%', 17: '67.224%', 18: '74.18%', 19: '69.357%', 20: '82.743%', 21: '71.85%', 22: '48.064%', 23: '76.542%', 24: '24.77%', 25: '81.734%'}\n"
     ]
    }
   ],
   "source": [
    "percentage_done_answers = {i: 0 for i in range(1, 26)}\n",
    "\n",
    "for key, value in answers.items():\n",
    "    percentage_done_answers[key] = f\"{round(value / answers_max[key] * 100, 3)}%\"\n",
    "\n",
    "print(percentage_done_answers) # процент выполнения каждого задания (задания с кратким ответом)"
   ],
   "metadata": {
    "collapsed": false,
    "pycharm": {
     "name": "#%%\n"
    }
   }
  },
  {
   "cell_type": "markdown",
   "source": [
    "3. Аналогично и с типом С (ответы с развернутым ответом)"
   ],
   "metadata": {
    "collapsed": false,
    "pycharm": {
     "name": "#%% md\n"
    }
   }
  },
  {
   "cell_type": "code",
   "execution_count": 198,
   "outputs": [
    {
     "name": "stdout",
     "output_type": "stream",
     "text": [
      "['1', '3', '1', '3', '2', '2', '3', '3', '2', '2', '1', '1']\n",
      "{1: 3048, 2: 9144, 3: 3048, 4: 9144, 5: 6096, 6: 6096, 7: 9144, 8: 9144, 9: 6096, 10: 6096, 11: 3048, 12: 3048}\n",
      "['131322332211', '131322332211', '131322332211', '131322332211', '131322332211', '131322332211', '131322332211', '131322332211', '131322332211', '131322332211']\n"
     ]
    }
   ],
   "source": [
    "detailed_answers_max = {i: 0 for i in range(1, 13)}\n",
    "\n",
    "detailed_answer_max_points = [i for i in ans]\n",
    "\n",
    "for i in range(len(detailed_answer_max_points)):\n",
    "    detailed_answer_max_points[i] = detailed_answer_max_points[i].replace(\"(\", \"\")\n",
    "    detailed_answer_max_points[i] = detailed_answer_max_points[i].replace(\")\", \"\")\n",
    "\n",
    "print(detailed_answer_max_points)\n",
    "\n",
    "detailed_answers_data = pandas_reader[\"Unnamed: 6\"][2:3050]\n",
    "\n",
    "\n",
    "for i in range(3048):\n",
    "    for z in range(12):\n",
    "        detailed_answers_max[z+1] += int(detailed_answer_max_points[z])\n",
    "\n",
    "\n",
    "\n",
    "print(detailed_answers_max)\n",
    "\n",
    "\n",
    "\n",
    "detailed_answers_array = []\n",
    "\n",
    "\n",
    "for each in detailed_answers_data:\n",
    "    detailed_answers_array.append(re.sub(r\"\\W\\d\\W\", \"\", each))\n",
    "\n",
    "\n",
    "\n",
    "print(detailed_answers_array[-10:])"
   ],
   "metadata": {
    "collapsed": false,
    "pycharm": {
     "name": "#%%\n"
    }
   }
  },
  {
   "cell_type": "code",
   "execution_count": 199,
   "outputs": [
    {
     "name": "stdout",
     "output_type": "stream",
     "text": [
      "{1: 2949, 2: 6823, 3: 2879, 4: 7288, 5: 4991, 6: 3753, 7: 6509, 8: 5069, 9: 3543, 10: 3170, 11: 2987, 12: 2577}\n"
     ]
    }
   ],
   "source": [
    "detailed_answers = {i: 0 for i in range(1, 13)}\n",
    "\n",
    "for each in detailed_answers_array:\n",
    "    for i, score in enumerate(each):\n",
    "        detailed_answers[i+1] += int(score)\n",
    "\n",
    "print(detailed_answers)\n"
   ],
   "metadata": {
    "collapsed": false,
    "pycharm": {
     "name": "#%%\n"
    }
   }
  },
  {
   "cell_type": "code",
   "execution_count": 200,
   "outputs": [
    {
     "name": "stdout",
     "output_type": "stream",
     "text": [
      "{1: '96.752%', 2: '74.617%', 3: '94.455%', 4: '79.703%', 5: '81.873%', 6: '61.565%', 7: '71.183%', 8: '55.435%', 9: '58.12%', 10: '52.001%', 11: '97.999%', 12: '84.547%'}\n"
     ]
    }
   ],
   "source": [
    "percentage_done_detailed_answers = {i: 0 for i in range(1, 13)}\n",
    "\n",
    "for key, value in detailed_answers.items():\n",
    "    percentage_done_detailed_answers[key] = f\"{round(value / detailed_answers_max[key] * 100, 3)}%\"\n",
    "\n",
    "print(percentage_done_detailed_answers)"
   ],
   "metadata": {
    "collapsed": false,
    "pycharm": {
     "name": "#%%\n"
    }
   }
  },
  {
   "cell_type": "markdown",
   "source": [
    "4. Сделайте анализ по двум школам:\n",
    "    i. по всем выполненным заданиям типа В\n",
    "    ii. по заданиям типа С больше 50%\n",
    "    iii. по среднему баллу юношей и девушек"
   ],
   "metadata": {
    "collapsed": false,
    "pycharm": {
     "name": "#%% md\n"
    }
   }
  },
  {
   "cell_type": "markdown",
   "source": [
    "Для выполнения задания будем использовать данные по школам 148 и 152"
   ],
   "metadata": {
    "collapsed": false,
    "pycharm": {
     "name": "#%% md\n"
    }
   }
  },
  {
   "cell_type": "code",
   "execution_count": 3,
   "outputs": [
    {
     "ename": "NameError",
     "evalue": "name 'school_data' is not defined",
     "output_type": "error",
     "traceback": [
      "\u001B[0;31m---------------------------------------------------------------------------\u001B[0m",
      "\u001B[0;31mNameError\u001B[0m                                 Traceback (most recent call last)",
      "Input \u001B[0;32mIn [3]\u001B[0m, in \u001B[0;36m<cell line: 11>\u001B[0;34m()\u001B[0m\n\u001B[1;32m      9\u001B[0m school_152_female_score \u001B[38;5;241m=\u001B[39m []\n\u001B[1;32m     11\u001B[0m \u001B[38;5;28;01mfor\u001B[39;00m i \u001B[38;5;129;01min\u001B[39;00m \u001B[38;5;28mrange\u001B[39m(\u001B[38;5;241m2\u001B[39m, \u001B[38;5;28mlen\u001B[39m(score)):\n\u001B[0;32m---> 12\u001B[0m     \u001B[38;5;28;01mif\u001B[39;00m \u001B[43mschool_data\u001B[49m[i] \u001B[38;5;241m==\u001B[39m \u001B[38;5;241m148\u001B[39m:\n\u001B[1;32m     13\u001B[0m         \u001B[38;5;28;01mif\u001B[39;00m gender_data[i] \u001B[38;5;241m==\u001B[39m \u001B[38;5;124m\"\u001B[39m\u001B[38;5;124mМ\u001B[39m\u001B[38;5;124m\"\u001B[39m:\n\u001B[1;32m     14\u001B[0m            school_148_male_score\u001B[38;5;241m.\u001B[39mappend(score[i])\n",
      "\u001B[0;31mNameError\u001B[0m: name 'school_data' is not defined"
     ]
    }
   ],
   "source": [
    "#print(score)\n",
    "#print(school_data)\n",
    "#print(gender_data)\n",
    "\n",
    "school_148_male_score = []\n",
    "school_148_female_score = []\n",
    "\n",
    "school_152_male_score = []\n",
    "school_152_female_score = []\n",
    "\n",
    "for i in range(2, len(score)):\n",
    "    if school_data[i] == 148:\n",
    "        if gender_data[i] == \"М\":\n",
    "           school_148_male_score.append(score[i])\n",
    "        if gender_data[i] == \"Ж\":\n",
    "            school_148_female_score.append(score[i])\n",
    "    if school_data[i] == 152:\n",
    "        if gender_data[i] == \"М\":\n",
    "            school_152_male_score.append(score[i])\n",
    "        if gender_data[i] == \"Ж\":\n",
    "            school_152_female_score.append(score[i])\n",
    "\n",
    "\n",
    "#print(school_148_male_score, school_148_female_score, school_152_male_score, school_152_female_score)\n",
    "print(np.mean(school_148_male_score))\n",
    "print(np.mean(school_148_female_score))\n",
    "\n",
    "print(np.mean(school_152_male_score))\n",
    "print(np.mean(school_152_female_score))"
   ],
   "metadata": {
    "collapsed": false,
    "pycharm": {
     "name": "#%%\n"
    }
   }
  },
  {
   "cell_type": "code",
   "execution_count": null,
   "outputs": [],
   "source": [],
   "metadata": {
    "collapsed": false,
    "pycharm": {
     "name": "#%%\n"
    }
   }
  }
 ],
 "metadata": {
  "kernelspec": {
   "display_name": "Python 3",
   "language": "python",
   "name": "python3"
  },
  "language_info": {
   "codemirror_mode": {
    "name": "ipython",
    "version": 2
   },
   "file_extension": ".py",
   "mimetype": "text/x-python",
   "name": "python",
   "nbconvert_exporter": "python",
   "pygments_lexer": "ipython2",
   "version": "2.7.6"
  }
 },
 "nbformat": 4,
 "nbformat_minor": 0
}