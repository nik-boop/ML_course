{
 "cells": [
  {
   "cell_type": "code",
   "execution_count": null,
   "metadata": {},
   "outputs": [],
   "source": [
    "def get_int(str=\"\"):\n",
    "    ret = input(str)\n",
    "    if ret == \"\":\n",
    "        return 1\n",
    "    else:\n",
    "        return float(ret)\n",
    "\n",
    "while True:\n",
    "    damag = get_int(\"damag>\")\n",
    "    damag_interval = get_int(\"damag_interval>\")\n",
    "    size = get_int(\"size>\")\n",
    "    duration = get_int(\"duration>\")\n",
    "    number = get_int(\"number>\")\n",
    "    explosion_radius = get_int(\"explosion_radius>\")\n",
    "    cooldown = get_int(\"cooldown>\")\n",
    "\n",
    "    damag = damag*number\n",
    "\n",
    "    dps = damag/(damag_interval)\n",
    "\n",
    "    dps = dps*duration/cooldown\n",
    "\n",
    "    dpspsq = dps*size*explosion_radius\n",
    "\n",
    "    print(\"dps:>\" + str(dps))\n",
    "    print(\"dpspsq:>\" + str(dpspsq))\n",
    "    input()\n",
    "\n"
   ]
  },
  {
   "cell_type": "code",
   "execution_count": null,
   "metadata": {},
   "outputs": [],
   "source": []
  }
 ],
 "metadata": {
  "kernelspec": {
   "display_name": "Python 3.9.5 64-bit",
   "language": "python",
   "name": "python3"
  },
  "language_info": {
   "codemirror_mode": {
    "name": "ipython",
    "version": 3
   },
   "file_extension": ".py",
   "mimetype": "text/x-python",
   "name": "python",
   "nbconvert_exporter": "python",
   "pygments_lexer": "ipython3",
   "version": "3.9.5"
  },
  "orig_nbformat": 4,
  "vscode": {
   "interpreter": {
    "hash": "c213d6c268bb2c5a6a38f04c7de751b704a5b3225149582f36a09002f1d0f7ab"
   }
  }
 },
 "nbformat": 4,
 "nbformat_minor": 2
}
