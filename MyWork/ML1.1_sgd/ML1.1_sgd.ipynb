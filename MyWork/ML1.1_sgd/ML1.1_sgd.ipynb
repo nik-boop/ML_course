{
 "cells": [
  {
   "cell_type": "code",
   "execution_count": null,
   "metadata": {},
   "outputs": [],
   "source": []
  }
 ],
 "metadata": {
  "kernelspec": {
   "display_name": "Python 3.9.5 64-bit",
   "language": "python",
   "name": "python3"
  },
  "language_info": {
   "name": "python",
   "version": "3.9.5"
  },
  "orig_nbformat": 4,
  "vscode": {
   "interpreter": {
    "hash": "c213d6c268bb2c5a6a38f04c7de751b704a5b3225149582f36a09002f1d0f7ab"
   }
  }
 },
 "nbformat": 4,
 "nbformat_minor": 2
}
