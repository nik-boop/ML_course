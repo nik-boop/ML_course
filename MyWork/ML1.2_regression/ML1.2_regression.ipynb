{
 "cells": [
  {
   "cell_type": "code",
   "execution_count": 195,
   "outputs": [],
   "source": [
    "import numpy as np\n",
    "import pandas as pd\n",
    "from sklearn import linear_model\n",
    "from sklearn.model_selection import train_test_split\n",
    "import matplotlib.pyplot as plt"
   ],
   "metadata": {
    "collapsed": false
   }
  },
  {
   "cell_type": "code",
   "execution_count": 214,
   "outputs": [],
   "source": [
    "X = pd.read_csv('./data/1_x.csv', header=None)\n",
    "Y = pd.read_csv('./data/1_y.csv', header=None)"
   ],
   "metadata": {
    "collapsed": false
   }
  },
  {
   "cell_type": "code",
   "execution_count": 215,
   "outputs": [],
   "source": [
    "X = X.set_axis(['x1', 'x2', 'x3', 'x4', 'x5', 'x6', 'x7'], axis=1, copy=False)\n",
    "Y = Y.set_axis(['y'], axis=1, copy=False)\n",
    "pass"
   ],
   "metadata": {
    "collapsed": false
   }
  },
  {
   "cell_type": "code",
   "execution_count": 90,
   "outputs": [
    {
     "data": {
      "text/plain": "           x1        x2        x3        x4        x5        x6        x7\n0    1.599865  0.340598 -0.603400  0.150586 -0.209677  0.955045  0.347682\n1    1.472656  0.466832 -1.947130  0.625906  0.589354  0.753521 -2.138552\n2    0.279378 -1.717121  0.251069  0.730013  0.301801 -0.206711  0.894811\n3    0.450771  1.133196 -0.294028 -2.595338  0.313911  1.953527  0.359938\n4    1.507042  0.932115 -0.789549  1.043712 -1.404000 -0.124354 -0.921117\n..        ...       ...       ...       ...       ...       ...       ...\n120  1.018825  1.618920 -1.561572  1.057171  1.893181 -0.647510  1.220188\n121 -1.244391  0.327816 -1.004231 -1.877654  1.307478 -1.839689 -0.176182\n122 -1.968106 -0.054336  0.558046 -0.527741 -0.060449  0.531740 -0.374088\n123 -0.970556  0.436830  0.877973 -0.970337 -0.282711 -1.464295 -0.976662\n124  1.755678  0.028767  1.631109 -1.209245  0.004220 -0.196236  0.093187\n\n[125 rows x 7 columns]",
      "text/html": "<div>\n<style scoped>\n    .dataframe tbody tr th:only-of-type {\n        vertical-align: middle;\n    }\n\n    .dataframe tbody tr th {\n        vertical-align: top;\n    }\n\n    .dataframe thead th {\n        text-align: right;\n    }\n</style>\n<table border=\"1\" class=\"dataframe\">\n  <thead>\n    <tr style=\"text-align: right;\">\n      <th></th>\n      <th>x1</th>\n      <th>x2</th>\n      <th>x3</th>\n      <th>x4</th>\n      <th>x5</th>\n      <th>x6</th>\n      <th>x7</th>\n    </tr>\n  </thead>\n  <tbody>\n    <tr>\n      <th>0</th>\n      <td>1.599865</td>\n      <td>0.340598</td>\n      <td>-0.603400</td>\n      <td>0.150586</td>\n      <td>-0.209677</td>\n      <td>0.955045</td>\n      <td>0.347682</td>\n    </tr>\n    <tr>\n      <th>1</th>\n      <td>1.472656</td>\n      <td>0.466832</td>\n      <td>-1.947130</td>\n      <td>0.625906</td>\n      <td>0.589354</td>\n      <td>0.753521</td>\n      <td>-2.138552</td>\n    </tr>\n    <tr>\n      <th>2</th>\n      <td>0.279378</td>\n      <td>-1.717121</td>\n      <td>0.251069</td>\n      <td>0.730013</td>\n      <td>0.301801</td>\n      <td>-0.206711</td>\n      <td>0.894811</td>\n    </tr>\n    <tr>\n      <th>3</th>\n      <td>0.450771</td>\n      <td>1.133196</td>\n      <td>-0.294028</td>\n      <td>-2.595338</td>\n      <td>0.313911</td>\n      <td>1.953527</td>\n      <td>0.359938</td>\n    </tr>\n    <tr>\n      <th>4</th>\n      <td>1.507042</td>\n      <td>0.932115</td>\n      <td>-0.789549</td>\n      <td>1.043712</td>\n      <td>-1.404000</td>\n      <td>-0.124354</td>\n      <td>-0.921117</td>\n    </tr>\n    <tr>\n      <th>...</th>\n      <td>...</td>\n      <td>...</td>\n      <td>...</td>\n      <td>...</td>\n      <td>...</td>\n      <td>...</td>\n      <td>...</td>\n    </tr>\n    <tr>\n      <th>120</th>\n      <td>1.018825</td>\n      <td>1.618920</td>\n      <td>-1.561572</td>\n      <td>1.057171</td>\n      <td>1.893181</td>\n      <td>-0.647510</td>\n      <td>1.220188</td>\n    </tr>\n    <tr>\n      <th>121</th>\n      <td>-1.244391</td>\n      <td>0.327816</td>\n      <td>-1.004231</td>\n      <td>-1.877654</td>\n      <td>1.307478</td>\n      <td>-1.839689</td>\n      <td>-0.176182</td>\n    </tr>\n    <tr>\n      <th>122</th>\n      <td>-1.968106</td>\n      <td>-0.054336</td>\n      <td>0.558046</td>\n      <td>-0.527741</td>\n      <td>-0.060449</td>\n      <td>0.531740</td>\n      <td>-0.374088</td>\n    </tr>\n    <tr>\n      <th>123</th>\n      <td>-0.970556</td>\n      <td>0.436830</td>\n      <td>0.877973</td>\n      <td>-0.970337</td>\n      <td>-0.282711</td>\n      <td>-1.464295</td>\n      <td>-0.976662</td>\n    </tr>\n    <tr>\n      <th>124</th>\n      <td>1.755678</td>\n      <td>0.028767</td>\n      <td>1.631109</td>\n      <td>-1.209245</td>\n      <td>0.004220</td>\n      <td>-0.196236</td>\n      <td>0.093187</td>\n    </tr>\n  </tbody>\n</table>\n<p>125 rows × 7 columns</p>\n</div>"
     },
     "execution_count": 90,
     "metadata": {},
     "output_type": "execute_result"
    }
   ],
   "source": [
    "X"
   ],
   "metadata": {
    "collapsed": false
   }
  },
  {
   "cell_type": "code",
   "execution_count": 91,
   "outputs": [
    {
     "data": {
      "text/plain": "              y\n0    101.507602\n1    -65.305680\n2    152.189336\n3   -109.702103\n4    -11.188624\n..          ...\n120  293.947002\n121 -146.511266\n122 -143.163481\n123 -188.233401\n124   76.381467\n\n[125 rows x 1 columns]",
      "text/html": "<div>\n<style scoped>\n    .dataframe tbody tr th:only-of-type {\n        vertical-align: middle;\n    }\n\n    .dataframe tbody tr th {\n        vertical-align: top;\n    }\n\n    .dataframe thead th {\n        text-align: right;\n    }\n</style>\n<table border=\"1\" class=\"dataframe\">\n  <thead>\n    <tr style=\"text-align: right;\">\n      <th></th>\n      <th>y</th>\n    </tr>\n  </thead>\n  <tbody>\n    <tr>\n      <th>0</th>\n      <td>101.507602</td>\n    </tr>\n    <tr>\n      <th>1</th>\n      <td>-65.305680</td>\n    </tr>\n    <tr>\n      <th>2</th>\n      <td>152.189336</td>\n    </tr>\n    <tr>\n      <th>3</th>\n      <td>-109.702103</td>\n    </tr>\n    <tr>\n      <th>4</th>\n      <td>-11.188624</td>\n    </tr>\n    <tr>\n      <th>...</th>\n      <td>...</td>\n    </tr>\n    <tr>\n      <th>120</th>\n      <td>293.947002</td>\n    </tr>\n    <tr>\n      <th>121</th>\n      <td>-146.511266</td>\n    </tr>\n    <tr>\n      <th>122</th>\n      <td>-143.163481</td>\n    </tr>\n    <tr>\n      <th>123</th>\n      <td>-188.233401</td>\n    </tr>\n    <tr>\n      <th>124</th>\n      <td>76.381467</td>\n    </tr>\n  </tbody>\n</table>\n<p>125 rows × 1 columns</p>\n</div>"
     },
     "execution_count": 91,
     "metadata": {},
     "output_type": "execute_result"
    }
   ],
   "source": [
    "Y"
   ],
   "metadata": {
    "collapsed": false
   }
  },
  {
   "cell_type": "code",
   "execution_count": 186,
   "outputs": [
    {
     "name": "stdout",
     "output_type": "stream",
     "text": [
      "количество точек данных: 125\n",
      "количество признаков: 7\n"
     ]
    },
    {
     "data": {
      "text/plain": "               x1          x2          x3          x4          x5          x6  \\\ncount  125.000000  125.000000  125.000000  125.000000  125.000000  125.000000   \nmean    -0.046701    0.173034    0.049015   -0.005271   -0.095981   -0.107452   \nstd      0.933281    0.928898    0.984631    1.000964    1.087336    0.928998   \nmin     -2.190258   -2.358885   -2.081062   -2.898741   -2.841371   -2.907825   \n25%     -0.775334   -0.429173   -0.657021   -0.685499   -0.869306   -0.672357   \n50%      0.030645    0.204892   -0.048617    0.054299   -0.102158   -0.174373   \n75%      0.545665    0.755290    0.804735    0.659364    0.689661    0.531740   \nmax      2.092059    3.142216    2.272042    2.065050    2.660842    2.086050   \n\n               x7  \ncount  125.000000  \nmean    -0.056552  \nstd      1.064615  \nmin     -2.138552  \n25%     -0.936561  \n50%      0.062705  \n75%      0.596198  \nmax      3.026906  ",
      "text/html": "<div>\n<style scoped>\n    .dataframe tbody tr th:only-of-type {\n        vertical-align: middle;\n    }\n\n    .dataframe tbody tr th {\n        vertical-align: top;\n    }\n\n    .dataframe thead th {\n        text-align: right;\n    }\n</style>\n<table border=\"1\" class=\"dataframe\">\n  <thead>\n    <tr style=\"text-align: right;\">\n      <th></th>\n      <th>x1</th>\n      <th>x2</th>\n      <th>x3</th>\n      <th>x4</th>\n      <th>x5</th>\n      <th>x6</th>\n      <th>x7</th>\n    </tr>\n  </thead>\n  <tbody>\n    <tr>\n      <th>count</th>\n      <td>125.000000</td>\n      <td>125.000000</td>\n      <td>125.000000</td>\n      <td>125.000000</td>\n      <td>125.000000</td>\n      <td>125.000000</td>\n      <td>125.000000</td>\n    </tr>\n    <tr>\n      <th>mean</th>\n      <td>-0.046701</td>\n      <td>0.173034</td>\n      <td>0.049015</td>\n      <td>-0.005271</td>\n      <td>-0.095981</td>\n      <td>-0.107452</td>\n      <td>-0.056552</td>\n    </tr>\n    <tr>\n      <th>std</th>\n      <td>0.933281</td>\n      <td>0.928898</td>\n      <td>0.984631</td>\n      <td>1.000964</td>\n      <td>1.087336</td>\n      <td>0.928998</td>\n      <td>1.064615</td>\n    </tr>\n    <tr>\n      <th>min</th>\n      <td>-2.190258</td>\n      <td>-2.358885</td>\n      <td>-2.081062</td>\n      <td>-2.898741</td>\n      <td>-2.841371</td>\n      <td>-2.907825</td>\n      <td>-2.138552</td>\n    </tr>\n    <tr>\n      <th>25%</th>\n      <td>-0.775334</td>\n      <td>-0.429173</td>\n      <td>-0.657021</td>\n      <td>-0.685499</td>\n      <td>-0.869306</td>\n      <td>-0.672357</td>\n      <td>-0.936561</td>\n    </tr>\n    <tr>\n      <th>50%</th>\n      <td>0.030645</td>\n      <td>0.204892</td>\n      <td>-0.048617</td>\n      <td>0.054299</td>\n      <td>-0.102158</td>\n      <td>-0.174373</td>\n      <td>0.062705</td>\n    </tr>\n    <tr>\n      <th>75%</th>\n      <td>0.545665</td>\n      <td>0.755290</td>\n      <td>0.804735</td>\n      <td>0.659364</td>\n      <td>0.689661</td>\n      <td>0.531740</td>\n      <td>0.596198</td>\n    </tr>\n    <tr>\n      <th>max</th>\n      <td>2.092059</td>\n      <td>3.142216</td>\n      <td>2.272042</td>\n      <td>2.065050</td>\n      <td>2.660842</td>\n      <td>2.086050</td>\n      <td>3.026906</td>\n    </tr>\n  </tbody>\n</table>\n</div>"
     },
     "metadata": {},
     "output_type": "display_data"
    }
   ],
   "source": [
    "print(f\"количество точек данных: {X.__len__()}\", f\"количество признаков: {len(X.columns)}\", sep=\"\\n\")\n",
    "tab = \"  \"\n",
    "display(X.describe())"
   ],
   "metadata": {
    "collapsed": false
   }
  },
  {
   "cell_type": "code",
   "execution_count": 225,
   "outputs": [],
   "source": [
    "Xtr, Xt, Ytr, Yt = train_test_split(X, Y, test_size=0.2, random_state=0)"
   ],
   "metadata": {
    "collapsed": false
   }
  },
  {
   "cell_type": "code",
   "execution_count": 226,
   "outputs": [],
   "source": [
    "reg = linear_model.LinearRegression()"
   ],
   "metadata": {
    "collapsed": false
   }
  },
  {
   "cell_type": "code",
   "execution_count": 227,
   "outputs": [],
   "source": [
    "reg.fit(Xtr, Ytr)\n",
    "pass"
   ],
   "metadata": {
    "collapsed": false
   }
  },
  {
   "cell_type": "code",
   "execution_count": 228,
   "outputs": [
    {
     "name": "stdout",
     "output_type": "stream",
     "text": [
      "[1.00692289]\n",
      "[[50.92663567  0.51087097 23.67510908 69.78360243 56.39907333  0.2016185\n",
      "  81.70528103]]\n"
     ]
    }
   ],
   "source": [
    "print(reg.intercept_)\n",
    "print(reg.coef_)\n"
   ],
   "metadata": {
    "collapsed": false
   }
  },
  {
   "cell_type": "code",
   "execution_count": 229,
   "outputs": [],
   "source": [
    "Yp = reg.predict(Xt)"
   ],
   "metadata": {
    "collapsed": false
   }
  },
  {
   "cell_type": "code",
   "execution_count": 266,
   "outputs": [
    {
     "data": {
      "text/plain": "        Actual   Predicted\n0  -131.233477 -119.476516\n1   -22.452138  -24.526072\n2  -212.860797 -199.505119\n3    63.268545   64.037969\n4  -170.781614 -177.859241\n5  -254.290884 -242.259353\n6   285.973829  271.183728\n7   211.158999  214.640832\n8  -198.420692 -192.406358\n9  -274.437935 -263.466644\n10  -66.179130  -56.418648\n11  -40.594241  -32.354859\n12 -220.879791 -219.539675\n13  113.174335  117.456510\n14  -89.708245 -100.044122\n15  152.189336  161.334877\n16   54.179399   56.326729\n17  -20.781077  -19.831011\n18   92.455086  103.109305\n19 -245.625338 -237.522758\n20   72.438204   78.586448\n21   38.912224   22.522959\n22   66.478122   61.321966\n23  -98.154307 -107.101473\n24   13.625999    4.153313",
      "text/html": "<div>\n<style scoped>\n    .dataframe tbody tr th:only-of-type {\n        vertical-align: middle;\n    }\n\n    .dataframe tbody tr th {\n        vertical-align: top;\n    }\n\n    .dataframe thead th {\n        text-align: right;\n    }\n</style>\n<table border=\"1\" class=\"dataframe\">\n  <thead>\n    <tr style=\"text-align: right;\">\n      <th></th>\n      <th>Actual</th>\n      <th>Predicted</th>\n    </tr>\n  </thead>\n  <tbody>\n    <tr>\n      <th>0</th>\n      <td>-131.233477</td>\n      <td>-119.476516</td>\n    </tr>\n    <tr>\n      <th>1</th>\n      <td>-22.452138</td>\n      <td>-24.526072</td>\n    </tr>\n    <tr>\n      <th>2</th>\n      <td>-212.860797</td>\n      <td>-199.505119</td>\n    </tr>\n    <tr>\n      <th>3</th>\n      <td>63.268545</td>\n      <td>64.037969</td>\n    </tr>\n    <tr>\n      <th>4</th>\n      <td>-170.781614</td>\n      <td>-177.859241</td>\n    </tr>\n    <tr>\n      <th>5</th>\n      <td>-254.290884</td>\n      <td>-242.259353</td>\n    </tr>\n    <tr>\n      <th>6</th>\n      <td>285.973829</td>\n      <td>271.183728</td>\n    </tr>\n    <tr>\n      <th>7</th>\n      <td>211.158999</td>\n      <td>214.640832</td>\n    </tr>\n    <tr>\n      <th>8</th>\n      <td>-198.420692</td>\n      <td>-192.406358</td>\n    </tr>\n    <tr>\n      <th>9</th>\n      <td>-274.437935</td>\n      <td>-263.466644</td>\n    </tr>\n    <tr>\n      <th>10</th>\n      <td>-66.179130</td>\n      <td>-56.418648</td>\n    </tr>\n    <tr>\n      <th>11</th>\n      <td>-40.594241</td>\n      <td>-32.354859</td>\n    </tr>\n    <tr>\n      <th>12</th>\n      <td>-220.879791</td>\n      <td>-219.539675</td>\n    </tr>\n    <tr>\n      <th>13</th>\n      <td>113.174335</td>\n      <td>117.456510</td>\n    </tr>\n    <tr>\n      <th>14</th>\n      <td>-89.708245</td>\n      <td>-100.044122</td>\n    </tr>\n    <tr>\n      <th>15</th>\n      <td>152.189336</td>\n      <td>161.334877</td>\n    </tr>\n    <tr>\n      <th>16</th>\n      <td>54.179399</td>\n      <td>56.326729</td>\n    </tr>\n    <tr>\n      <th>17</th>\n      <td>-20.781077</td>\n      <td>-19.831011</td>\n    </tr>\n    <tr>\n      <th>18</th>\n      <td>92.455086</td>\n      <td>103.109305</td>\n    </tr>\n    <tr>\n      <th>19</th>\n      <td>-245.625338</td>\n      <td>-237.522758</td>\n    </tr>\n    <tr>\n      <th>20</th>\n      <td>72.438204</td>\n      <td>78.586448</td>\n    </tr>\n    <tr>\n      <th>21</th>\n      <td>38.912224</td>\n      <td>22.522959</td>\n    </tr>\n    <tr>\n      <th>22</th>\n      <td>66.478122</td>\n      <td>61.321966</td>\n    </tr>\n    <tr>\n      <th>23</th>\n      <td>-98.154307</td>\n      <td>-107.101473</td>\n    </tr>\n    <tr>\n      <th>24</th>\n      <td>13.625999</td>\n      <td>4.153313</td>\n    </tr>\n  </tbody>\n</table>\n</div>"
     },
     "execution_count": 266,
     "metadata": {},
     "output_type": "execute_result"
    }
   ],
   "source": [
    "df = pd.DataFrame({'Actual': np.reshape(Yt.to_numpy(), (1,-1))[0], 'Predicted': Yp.reshape(1,-1)[0]})\n",
    "df"
   ],
   "metadata": {
    "collapsed": false
   }
  },
  {
   "cell_type": "code",
   "execution_count": 9,
   "outputs": [
    {
     "data": {
      "text/plain": "0.9950364126599337"
     },
     "execution_count": 9,
     "metadata": {},
     "output_type": "execute_result"
    }
   ],
   "source": [
    "reg.score(X, Y)"
   ],
   "metadata": {
    "collapsed": false
   }
  },
  {
   "cell_type": "code",
   "execution_count": 35,
   "outputs": [
    {
     "data": {
      "text/plain": "           x1        x2        x3        x4        x5        x6        x7\n0    1.472656  0.466832 -1.947130  0.625906  0.589354  0.753521 -2.138552\n1    0.279378 -1.717121  0.251069  0.730013  0.301801 -0.206711  0.894811\n2    0.450771  1.133196 -0.294028 -2.595338  0.313911  1.953527  0.359938\n3    1.507042  0.932115 -0.789549  1.043712 -1.404000 -0.124354 -0.921117\n4   -0.793739 -1.249947 -0.048617  2.050793 -0.206069 -1.880998  0.596198\n..        ...       ...       ...       ...       ...       ...       ...\n119  1.018825  1.618920 -1.561572  1.057171  1.893181 -0.647510  1.220188\n120 -1.244391  0.327816 -1.004231 -1.877654  1.307478 -1.839689 -0.176182\n121 -1.968106 -0.054336  0.558046 -0.527741 -0.060449  0.531740 -0.374088\n122 -0.970556  0.436830  0.877973 -0.970337 -0.282711 -1.464295 -0.976662\n123  1.755678  0.028767  1.631109 -1.209245  0.004220 -0.196236  0.093187\n\n[124 rows x 7 columns]",
      "text/html": "<div>\n<style scoped>\n    .dataframe tbody tr th:only-of-type {\n        vertical-align: middle;\n    }\n\n    .dataframe tbody tr th {\n        vertical-align: top;\n    }\n\n    .dataframe thead th {\n        text-align: right;\n    }\n</style>\n<table border=\"1\" class=\"dataframe\">\n  <thead>\n    <tr style=\"text-align: right;\">\n      <th></th>\n      <th>x1</th>\n      <th>x2</th>\n      <th>x3</th>\n      <th>x4</th>\n      <th>x5</th>\n      <th>x6</th>\n      <th>x7</th>\n    </tr>\n  </thead>\n  <tbody>\n    <tr>\n      <th>0</th>\n      <td>1.472656</td>\n      <td>0.466832</td>\n      <td>-1.947130</td>\n      <td>0.625906</td>\n      <td>0.589354</td>\n      <td>0.753521</td>\n      <td>-2.138552</td>\n    </tr>\n    <tr>\n      <th>1</th>\n      <td>0.279378</td>\n      <td>-1.717121</td>\n      <td>0.251069</td>\n      <td>0.730013</td>\n      <td>0.301801</td>\n      <td>-0.206711</td>\n      <td>0.894811</td>\n    </tr>\n    <tr>\n      <th>2</th>\n      <td>0.450771</td>\n      <td>1.133196</td>\n      <td>-0.294028</td>\n      <td>-2.595338</td>\n      <td>0.313911</td>\n      <td>1.953527</td>\n      <td>0.359938</td>\n    </tr>\n    <tr>\n      <th>3</th>\n      <td>1.507042</td>\n      <td>0.932115</td>\n      <td>-0.789549</td>\n      <td>1.043712</td>\n      <td>-1.404000</td>\n      <td>-0.124354</td>\n      <td>-0.921117</td>\n    </tr>\n    <tr>\n      <th>4</th>\n      <td>-0.793739</td>\n      <td>-1.249947</td>\n      <td>-0.048617</td>\n      <td>2.050793</td>\n      <td>-0.206069</td>\n      <td>-1.880998</td>\n      <td>0.596198</td>\n    </tr>\n    <tr>\n      <th>...</th>\n      <td>...</td>\n      <td>...</td>\n      <td>...</td>\n      <td>...</td>\n      <td>...</td>\n      <td>...</td>\n      <td>...</td>\n    </tr>\n    <tr>\n      <th>119</th>\n      <td>1.018825</td>\n      <td>1.618920</td>\n      <td>-1.561572</td>\n      <td>1.057171</td>\n      <td>1.893181</td>\n      <td>-0.647510</td>\n      <td>1.220188</td>\n    </tr>\n    <tr>\n      <th>120</th>\n      <td>-1.244391</td>\n      <td>0.327816</td>\n      <td>-1.004231</td>\n      <td>-1.877654</td>\n      <td>1.307478</td>\n      <td>-1.839689</td>\n      <td>-0.176182</td>\n    </tr>\n    <tr>\n      <th>121</th>\n      <td>-1.968106</td>\n      <td>-0.054336</td>\n      <td>0.558046</td>\n      <td>-0.527741</td>\n      <td>-0.060449</td>\n      <td>0.531740</td>\n      <td>-0.374088</td>\n    </tr>\n    <tr>\n      <th>122</th>\n      <td>-0.970556</td>\n      <td>0.436830</td>\n      <td>0.877973</td>\n      <td>-0.970337</td>\n      <td>-0.282711</td>\n      <td>-1.464295</td>\n      <td>-0.976662</td>\n    </tr>\n    <tr>\n      <th>123</th>\n      <td>1.755678</td>\n      <td>0.028767</td>\n      <td>1.631109</td>\n      <td>-1.209245</td>\n      <td>0.004220</td>\n      <td>-0.196236</td>\n      <td>0.093187</td>\n    </tr>\n  </tbody>\n</table>\n<p>124 rows × 7 columns</p>\n</div>"
     },
     "execution_count": 35,
     "metadata": {},
     "output_type": "execute_result"
    }
   ],
   "source": [
    "X"
   ],
   "metadata": {
    "collapsed": false
   }
  },
  {
   "cell_type": "code",
   "execution_count": null,
   "outputs": [],
   "source": [],
   "metadata": {
    "collapsed": false
   }
  }
 ],
 "metadata": {
  "kernelspec": {
   "display_name": "Python 3",
   "language": "python",
   "name": "python3"
  },
  "language_info": {
   "codemirror_mode": {
    "name": "ipython",
    "version": 2
   },
   "file_extension": ".py",
   "mimetype": "text/x-python",
   "name": "python",
   "nbconvert_exporter": "python",
   "pygments_lexer": "ipython2",
   "version": "2.7.6"
  }
 },
 "nbformat": 4,
 "nbformat_minor": 0
}
